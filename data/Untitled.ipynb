{
 "cells": [
  {
   "cell_type": "code",
   "execution_count": 72,
   "id": "e2146e3f",
   "metadata": {},
   "outputs": [],
   "source": [
    "import random\n",
    "from matplotlib import pyplot as plt\n",
    "from IPython.display import clear_output"
   ]
  },
  {
   "cell_type": "code",
   "execution_count": 98,
   "id": "557e5a65",
   "metadata": {},
   "outputs": [],
   "source": [
    "def coin_flip():\n",
    "    return random.randint(0,1)"
   ]
  },
  {
   "cell_type": "code",
   "execution_count": 120,
   "id": "a87a365b",
   "metadata": {},
   "outputs": [
    {
     "data": {
      "image/png": "[encoded data removed]",
      "text/plain": [
       "<Figure size 432x288 with 1 Axes>"
      ]
     },
     "metadata": {
      "needs_background": "light"
     },
     "output_type": "display_data"
    }
   ],
   "source": [
    "results = []\n",
    "trials = 100_000\n",
    "flips = 100\n",
    "\n",
    "for trial in range(trials):\n",
    "    x = 0\n",
    "    for i in range(flips):\n",
    "        x += coin_flip()\n",
    "    results.append(x)\n",
    "    if trial % 1000 == 0:\n",
    "        clear_output(wait=True)\n",
    "        print('Progress: ['+'>'*int(round(100*trial/trials,0))+'-'*(100-int(round(100*trial/trials,0)))+']')\n",
    "\n",
    "clear_output(wait=False)\n",
    "ax= plt.hist(results, bins=100)\n",
    "plt.show()"
   ]
  },
  {
   "cell_type": "code",
   "execution_count": 200,
   "id": "0c070e2a",
   "metadata": {},
   "outputs": [],
   "source": [
    "def lotto_draw(samples, population, bonus=True):\n",
    "    set = list(range(1,population+1))\n",
    "    random.shuffle(set)\n",
    "    draw = []\n",
    "    \n",
    "    for sample in range(samples):\n",
    "        draw.append(set[sample])\n",
    "        if (sample == samples-1) & bonus:\n",
    "            draw.sort()\n",
    "            draw.append(set[sample+1])\n",
    "        else:\n",
    "            draw.sort()\n",
    "    return draw"
   ]
  },
  {
   "cell_type": "code",
   "execution_count": 230,
   "id": "90e6bfb0",
   "metadata": {},
   "outputs": [],
   "source": [
    "lotto = lotto_draw(7,46, bonus=True)"
   ]
  },
  {
   "cell_type": "code",
   "execution_count": 231,
   "id": "86dad3be",
   "metadata": {},
   "outputs": [
    {
     "name": "stdout",
     "output_type": "stream",
     "text": [
      "[8, 16, 20, 28, 34, 37, 38, 4]\n"
     ]
    }
   ],
   "source": [
    "print(lotto)"
   ]
  },
  {
   "cell_type": "code",
   "execution_count": null,
   "id": "e3b40ebc",
   "metadata": {},
   "outputs": [],
   "source": []
  }
 ],
 "metadata": {
  "kernelspec": {
   "display_name": "Python 3",
   "language": "python",
   "name": "python3"
  },
  "language_info": {
   "codemirror_mode": {
    "name": "ipython",
    "version": 3
   },
   "file_extension": ".py",
   "mimetype": "text/x-python",
   "name": "python",
   "nbconvert_exporter": "python",
   "pygments_lexer": "ipython3",
   "version": "3.8.5"
  }
 },
 "nbformat": 4,
 "nbformat_minor": 5
}
